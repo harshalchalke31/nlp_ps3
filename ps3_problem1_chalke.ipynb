{
 "cells": [
  {
   "cell_type": "code",
   "execution_count": 1,
   "metadata": {},
   "outputs": [
    {
     "name": "stderr",
     "output_type": "stream",
     "text": [
      "/home/hc4293/miniconda3/envs/imgsenv/lib/python3.12/site-packages/tqdm/auto.py:21: TqdmWarning: IProgress not found. Please update jupyter and ipywidgets. See https://ipywidgets.readthedocs.io/en/stable/user_install.html\n",
      "  from .autonotebook import tqdm as notebook_tqdm\n"
     ]
    }
   ],
   "source": [
    "from transformers import AutoModelForSeq2SeqLM, AutoTokenizer\n",
    "import numpy"
   ]
  },
  {
   "cell_type": "code",
   "execution_count": 2,
   "metadata": {},
   "outputs": [],
   "source": [
    "# source: A speech by Abhraham Lincoln (Gettysburg Address, 1863).\n",
    "sen_1= \"The world will little note, nor long remember what we say here, but it can never forget what they did here.\"\n",
    "# source: Wernicke's Aphasia from Aphasia Community INC.\n",
    "sen_2= \"You know that smoodle pinkered and that I want to get him round and take care of him like you want before.\""
   ]
  },
  {
   "cell_type": "code",
   "execution_count": null,
   "metadata": {},
   "outputs": [],
   "source": [
    "tasks = [\n",
    "    \"constituency parse\",\n",
    "    \"dependency parse\",\n",
    "    \"CCG parse\",\n",
    "    \"semantic roles\",\n",
    "    \"abstract meaning representation (AMR)\",\n",
    "    \"coreference resolution\",\n",
    "]\n",
    "\n",
    "results = []\n",
    "\n",
    "for sentence in [sen_1, sen_2]:\n",
    "    for task in tasks:\n",
    "        llama2_output = query_llama2(sentence, task)\n",
    "        results.append({\n",
    "            \"Sentence\": sentence,\n",
    "            \"Task\": task,\n",
    "            \"LLaMA2\": llama2_output,\n",
    "        })\n"
   ]
  }
 ],
 "metadata": {
  "kernelspec": {
   "display_name": "imgsenv",
   "language": "python",
   "name": "python3"
  },
  "language_info": {
   "codemirror_mode": {
    "name": "ipython",
    "version": 3
   },
   "file_extension": ".py",
   "mimetype": "text/x-python",
   "name": "python",
   "nbconvert_exporter": "python",
   "pygments_lexer": "ipython3",
   "version": "3.12.7"
  }
 },
 "nbformat": 4,
 "nbformat_minor": 2
}
