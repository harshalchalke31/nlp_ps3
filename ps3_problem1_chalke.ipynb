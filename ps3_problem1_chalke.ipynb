{
 "cells": [
  {
   "cell_type": "markdown",
   "metadata": {},
   "source": [
    "## Dependencies"
   ]
  },
  {
   "cell_type": "code",
   "execution_count": 1,
   "metadata": {},
   "outputs": [
    {
     "name": "stderr",
     "output_type": "stream",
     "text": [
      "/home/hc4293/miniconda3/envs/imgsenv/lib/python3.12/site-packages/tqdm/auto.py:21: TqdmWarning: IProgress not found. Please update jupyter and ipywidgets. See https://ipywidgets.readthedocs.io/en/stable/user_install.html\n",
      "  from .autonotebook import tqdm as notebook_tqdm\n"
     ]
    }
   ],
   "source": [
    "import openai\n",
    "import pandas as pd\n",
    "from IPython.display import display, Markdown\n",
    "import matplotlib.pyplot as plt\n",
    "pd.set_option('display.max_colwidth', None)\n",
    "from transformers import AutoModelForCausalLM, AutoTokenizer,T5Tokenizer, T5ForConditionalGeneration\n",
    "import torch\n",
    "from dotenv import load_dotenv\n",
    "import os\n",
    "load_dotenv()\n",
    "openai.api_key = os.getenv(\"CHATGPT_API_KEY\")\n",
    "from huggingface_hub import login\n",
    "login(token=os.getenv(\"HF_API_KEY\"))"
   ]
  },
  {
   "cell_type": "markdown",
   "metadata": {},
   "source": [
    "## Initialize sentences and tasks"
   ]
  },
  {
   "cell_type": "code",
   "execution_count": 2,
   "metadata": {},
   "outputs": [],
   "source": [
    "# source: A speech by Abhraham Lincoln (Gettysburg Address, 1863).\n",
    "sen_1= \"The world will little note, nor long remember what we say here, but it can never forget what they did here.\"\n",
    "# source: Wernicke's Aphasia from Aphasia Community INC.\n",
    "sen_2= \"You know that smoodle pinkered and that I want to get him round and take care of him like you want before.\"\n",
    "\n",
    "\n",
    "tasks = [\n",
    "    \"constituency parse\",\n",
    "    \"dependency parse\",\n",
    "    \"CCG parse\",\n",
    "    \"semantic roles\",\n",
    "    \"abstract meaning representation (AMR)\",\n",
    "    \"coreference resolution\",\n",
    "]"
   ]
  },
  {
   "cell_type": "markdown",
   "metadata": {},
   "source": [
    "## Models"
   ]
  },
  {
   "cell_type": "markdown",
   "metadata": {},
   "source": [
    "#### GPT4"
   ]
  },
  {
   "cell_type": "code",
   "execution_count": 3,
   "metadata": {},
   "outputs": [],
   "source": [
    "# function to query ChatGPT\n",
    "def query_chatgpt(sentence, task):\n",
    "    prompt = (\n",
    "        f\"Perform the following task on the given sentence and only provide the desired output:\\n\"\n",
    "        f\"Task: {task}\\n\"\n",
    "        f\"Sentence: {sentence}\\n\"\n",
    "    )\n",
    "    try:\n",
    "        response = openai.ChatCompletion.create(\n",
    "            model=\"gpt-4\",\n",
    "            messages=[{\"role\": \"user\", \"content\": prompt}],\n",
    "            max_tokens=1000\n",
    "        )\n",
    "        return response[\"choices\"][0][\"message\"][\"content\"]\n",
    "    except Exception as e:\n",
    "        return str(e)"
   ]
  },
  {
   "cell_type": "markdown",
   "metadata": {},
   "source": [
    "#### Pythia"
   ]
  },
  {
   "cell_type": "code",
   "execution_count": 4,
   "metadata": {},
   "outputs": [],
   "source": [
    "# load pythia model and tokenizer\n",
    "pythia_model_name = \"EleutherAI/pythia-2.8b-deduped\"\n",
    "pythia_tokenizer = AutoTokenizer.from_pretrained(pythia_model_name)\n",
    "pythia_tokenizer.pad_token = pythia_tokenizer.eos_token\n",
    "pythia_model = AutoModelForCausalLM.from_pretrained(pythia_model_name)\n",
    "\n",
    "def query_pythia(sentence, task, max_length=512):\n",
    "    prompt = (\n",
    "        f\"Perform the following task on the given sentence and only provide the desired output:\\n\"\n",
    "        f\"Task: {task}\\n\"\n",
    "        f\"Sentence: {sentence}\"\n",
    "    )\n",
    "    \n",
    "    inputs = pythia_tokenizer(prompt, return_tensors=\"pt\", padding=True)\n",
    "    device = torch.device(\"cuda\" if torch.cuda.is_available() else \"cpu\")\n",
    "    pythia_model.to(device)\n",
    "    inputs = inputs.to(device)\n",
    "    \n",
    "    outputs = pythia_model.generate(\n",
    "        inputs.input_ids,\n",
    "        attention_mask=inputs.attention_mask,\n",
    "        max_length=max_length,\n",
    "        do_sample=True,\n",
    "        pad_token_id=pythia_tokenizer.pad_token_id\n",
    "    )\n",
    "    response = pythia_tokenizer.decode(outputs[0], skip_special_tokens=True)\n",
    "    \n",
    "    return response.replace(prompt, \"\").strip()\n"
   ]
  },
  {
   "cell_type": "markdown",
   "metadata": {},
   "source": [
    "#### T5 small"
   ]
  },
  {
   "cell_type": "code",
   "execution_count": 5,
   "metadata": {},
   "outputs": [
    {
     "name": "stderr",
     "output_type": "stream",
     "text": [
      "You are using the default legacy behaviour of the <class 'transformers.models.t5.tokenization_t5.T5Tokenizer'>. This is expected, and simply means that the `legacy` (previous) behavior will be used so nothing changes for you. If you want to use the new behaviour, set `legacy=False`. This should only be set if you understand what it means, and thoroughly read the reason why this was added as explained in https://github.com/huggingface/transformers/pull/24565\n"
     ]
    }
   ],
   "source": [
    "t5_model_name = \"t5-small\"\n",
    "t5_tokenizer = T5Tokenizer.from_pretrained(t5_model_name)\n",
    "t5_tokenizer.pad_token = t5_tokenizer.eos_token\n",
    "t5_model = T5ForConditionalGeneration.from_pretrained(t5_model_name)\n",
    "\n",
    "def query_t5(sentence, task, max_length=512):\n",
    "    prompt = (\n",
    "        f\"Perform the following task on the given sentence and only provide the desired output:\\n\"\n",
    "        f\"Task: {task}\\n\"\n",
    "        f\"Sentence: {sentence}\"\n",
    "    )\n",
    "    \n",
    "    inputs = t5_tokenizer(prompt, return_tensors=\"pt\", padding=True)\n",
    "    device = torch.device(\"cuda\" if torch.cuda.is_available() else \"cpu\")\n",
    "    t5_model.to(device)\n",
    "    inputs = inputs.to(device)\n",
    "    \n",
    "    outputs = t5_model.generate(\n",
    "        inputs.input_ids,\n",
    "        attention_mask=inputs.attention_mask,\n",
    "        max_length=max_length,\n",
    "        do_sample=True,\n",
    "        pad_token_id=t5_tokenizer.pad_token_id\n",
    "    )\n",
    "    response = t5_tokenizer.decode(outputs[0], skip_special_tokens=True)\n",
    "    \n",
    "    return response.replace(prompt, \"\").strip()\n"
   ]
  },
  {
   "cell_type": "code",
   "execution_count": 6,
   "metadata": {},
   "outputs": [],
   "source": [
    "def process_and_display_results(sentences, tasks, model_name, query_function):\n",
    "    result_dfs=[]\n",
    "    for sentence in sentences:\n",
    "        results = []\n",
    "        for task in tasks:\n",
    "            output = query_function(sentence, task)\n",
    "            results.append({\n",
    "                \"Task\": task,\n",
    "                \"Output\": output\n",
    "            })\n",
    "        \n",
    "        df_results = pd.DataFrame(results)\n",
    "        result_dfs.append(df_results)\n",
    "        \n",
    "        display(Markdown(f\"### Model: {model_name}\"))\n",
    "        display(Markdown(f\"**Sentence:** {sentence}\"))\n",
    "        \n",
    "        display(df_results)\n",
    "    return result_dfs"
   ]
  },
  {
   "cell_type": "markdown",
   "metadata": {},
   "source": [
    "## Outputs"
   ]
  },
  {
   "cell_type": "code",
   "execution_count": 7,
   "metadata": {},
   "outputs": [
    {
     "data": {
      "text/markdown": [
       "### Model: Pythia-2.8B"
      ],
      "text/plain": [
       "<IPython.core.display.Markdown object>"
      ]
     },
     "metadata": {},
     "output_type": "display_data"
    },
    {
     "data": {
      "text/markdown": [
       "**Sentence:** The world will little note, nor long remember what we say here, but it can never forget what they did here."
      ],
      "text/plain": [
       "<IPython.core.display.Markdown object>"
      ]
     },
     "metadata": {},
     "output_type": "display_data"
    },
    {
     "data": {
      "text/html": [
       "<div>\n",
       "<style scoped>\n",
       "    .dataframe tbody tr th:only-of-type {\n",
       "        vertical-align: middle;\n",
       "    }\n",
       "\n",
       "    .dataframe tbody tr th {\n",
       "        vertical-align: top;\n",
       "    }\n",
       "\n",
       "    .dataframe thead th {\n",
       "        text-align: right;\n",
       "    }\n",
       "</style>\n",
       "<table border=\"1\" class=\"dataframe\">\n",
       "  <thead>\n",
       "    <tr style=\"text-align: right;\">\n",
       "      <th></th>\n",
       "      <th>Task</th>\n",
       "      <th>Output</th>\n",
       "    </tr>\n",
       "  </thead>\n",
       "  <tbody>\n",
       "    <tr>\n",
       "      <th>0</th>\n",
       "      <td>constituency parse</td>\n",
       "      <td>The task will only provide {world, little}, {will, note}, {not, long}, {say, here}, {but, it}, etc.\\nNote:  Only add one of each token in the list provided\\n\\nA:\\n\\nRegular Expression\\ngsub(/^(?:[^\\[\\]\\(\\)\\-\\.\\.\\s]*\\[([^\\]\\(\\)]*)|(\\^\\s*)\\])/ig, \"\\\\1\", yourSentence)\\n\\nReplace the [^,^\\[\\]\\(\\)\\-\\.\\.\\s]* with this \\K stuff. So, what all these stuff is doing is that it keeps the previous \\K stuff and then replaces the \\K stuff with what you want to replace it with. So, what this means is that, it is matching the non-space, non-comment, and non-digits at the beginning of the string up to the first [] or () that it can find. Then it creates a match that matches the whole of what it just matched plus everything that is after it. So, all \\K stuff is replaced with the stuff that it matched \\K the first thing that it matched. Here, \\s* matches a whole bunch of characters without spaces. \\s matches a sequence of characters that are not spaces.\\nSo, what we do here, first, is match up to the first [] or () and say that I want what is after and I want what is before what I just matched \\K. Then, once I get to that portion, I match everything that is after it. So, all of it. Now, the other stuff is this \\K stuff. So, \\K is \\K \\s and \\K is everything that is matched and didn't get replaced. So, this matches all of the characters after what is the first thing that you matched \\K and everything else that it matched. Then, it replaces it with the part that you want it to replace it with. So, that is an example of how \\K stuff is treated and what it matches.\\ngsub also returns the matched string, so it is optional in this example. In other examples, instead of \\K, or \\s, it would be passed in and you would do</td>\n",
       "    </tr>\n",
       "    <tr>\n",
       "      <th>1</th>\n",
       "      <td>dependency parse</td>\n",
       "      <td>Predicate: NLP -&gt; Dependency Parsing: SubjParc\\n\\nThis will result in the following list of tuples:\\n[(('will', 'little', None), None),  # The part before the punctuation marks\\n(('world', 'little', None), None),  # The part after the punctuation marks\\n((None, None), None),  # The rest of the sentence</td>\n",
       "    </tr>\n",
       "    <tr>\n",
       "      <th>2</th>\n",
       "      <td>CCG parse</td>\n",
       "      <td>Return the number of words in the sentence in the returned list.\\nThe task is given the sequence of the words (the sentence) as a sentence object.\\n(return-type list)\\n\\nTask: CCG parse\\nSentence: He gave up\\n\\nReturn the number of words in the sentence in the returned list.\\nThe task is given the sequence of the words (the sentence) as a sentence object.\\n(return-type list)\\n\\nTask: CCG parse\\nSentence: It's so small\\n\\nReturn the number of words in the sentence in the returned list.\\nThe task is given the sequence of the words (the sentence) as a sentence object.\\n(return-type list)\\n\\nTask: Find a given string in between two characters\\n\\nGet the first character that matches the given string, after removing the specified number of characters. For example, you may find a string: \"the\" in \"the horse\".\\nReturns nothing.\\n(return-type string)\\n\\nTask: Find a given string within a sentence\\n\\nSearch through a sentence and find the first index where the matching string occurs, then returns a list containing the first character of the matching string, after removing this character from the word at that index. For example, you may find a string: \"the\" in the sentence: The horse.\\nReturns nothing.\\n(return-type list)\\n\\nTask: Find a given string within a sentence\\n\\nSearch through a sentence and find the first index where the matching string occurs, then returns a list containing the first character of the matching string, after removing this character from the word at that index. For example, you may find a string: \"the\" in the sentence: He gave up.\\nReturns nothing.\\n(return-type list)\\n\\nTask: Find a given string within a sentence\\n\\nSearch through a sentence and find the first index where the matching string occurs, then returns a list containing the first character of the matching string, after removing this character from the word at that index. For example, you may find a string: \"the\" in the sentence: He gave up.\\nReturns nothing.\\n(return-type list)</td>\n",
       "    </tr>\n",
       "    <tr>\n",
       "      <th>3</th>\n",
       "      <td>semantic roles</td>\n",
       "      <td>You are given a text, and you need to find the words which are the most semantically similar to `world`.\\nExample: https://nlp.stanford.edu/data/glove.840B.zip \\nSolution:\\nimport re\\n\\n# Define the variable for our dictionary\\n\\nWORLD = ['world', 'worlds']\\n\\nvocabulary = set()\\n\\ndef words_dict(sentence):\\n\\n# Iterate our sentence\\n\\nfor word in sentence.split(): # Split it into a list of characters\\n\\n# Filter the list and iterate it with the function\\n\\nfor word in word.lower().split():\\n\\nif word in WORLD:\\n\\n# If we find the word, add it to the dictionary\\n\\nvocabulary.add(word)\\n\\n# Return a list of all words in the sentence (note, in the example sentence, it's just a single word called `world`)\\n\\nreturn vocabulary\\n\\nsentence = \"\"\"The world will little note, nor long remember what we say here, but it can never forget what they did here.\"\"\"\\n\\nsolution = [] \\n\\n# Iterate the text and add the word to the dictionary\\n\\nfor word in words_dict(sentence): # Check if we found the word\\n\\nif word not in vocabulary: # If not in dictionary, add it\\n\\nsolution.append(word)\\n\\nreturn solution\\n\\nprint(solution)\\n\\nA:\\n\\nThere's several problems that come up from splitting a sentence and building a dictionary:\\n\\nThe code below uses a list comprehension instead of a for loop.  A list comprehension is almost as fast as a for loop, but the for loop will still be slightly faster due to the overhead of Python looping.  That being said, you should not really care.\\nFor each word in the list, you go through the list twice to look at each word in the dictionary.\\nThe Python dict type does not provide a unique key like the C++ one does:  This is why your dictionary becomes slow.\\n\\nI've updated the answer to take into account your suggestions for improvement, and created a version that does not use a dict.  The</td>\n",
       "    </tr>\n",
       "    <tr>\n",
       "      <th>4</th>\n",
       "      <td>abstract meaning representation (AMR)</td>\n",
       "      <td>AMR\\n+------------+---------------+----------------------------------------+--------+\\n| Tag       | Word          | Syntax                                 | Diction\\n+------------+---------------+----------------------------------------+--------+\\n| Tm         | - - -         | The world - - - + - (noun)              |       |\\n| Tss         | - - -         | will - - - - little + - (adv)         |       |\\n| To         | - - -         | note - - - - - - (adv) - - - - + - (noun) |       |\\n| Pn         | - - -         | long + - - - - - - (adv) + - - - - + (noun) |       |\\n| Nc         | - - -         | never - - - - - - + (noun)            |       |\\n| Pb         | - - -         | to + - - - - - - (noun) + - - - - + - (adv) |       |\\n+------------+---------------+----------------------------------------+--------+\\n\\n*Note that there's no space between words in tags.*\\nAnd for future reference:\\nhttp://www.diveintomind.org/python/python-tag-trick.html\\n\\nA:\\n\\nYou're overdoing it. If you want a tagger you need to generate the parse trees (with their child nodes), and then you need to create a parse tree for each sentence you read in.\\nHowever, this doesn't have much to do with computer-science, and isn't really what a tagger is.\\nIf you just need to process the text, you have a pretty efficient algorithm to convert the text to a tree. If you really want to build a parser from the ground up, you need to find the basic ideas of parsing in a language (what a parse looks like). Also, even though the parsing technique you want to use (chomsky normal form or yacc) is pretty well-documented, there are other things to learn (especially in a context like python that allows a lot of parentheses and commas, etc., to be used.</td>\n",
       "    </tr>\n",
       "    <tr>\n",
       "      <th>5</th>\n",
       "      <td>coreference resolution</td>\n",
       "      <td>Output:\\nThe world will little note ... It can never forget what they did here.\\n\\nA:\\n\\nNot sure why you think this is an answer:\\n\\n1.1\\nThe world will little note, nor long remember what we say here\\n  2.2\\nThe world will little note, nor long remember what we say here, but it can never forget what they did here.\\n\\nAre these sentences actually parallel?\\nIf \"they said this here\" is a noun phrase: Then #1 and #2 are parallel, but your output is wrong: 1. and 2. should be 2. and 2.\\nIt seems your output should be:\\nThe world will little note, nor long remember what they said here, and it cannot forget what they did here.\\nAs far as i know in Dutch it is often difficult to tell these differences: Sometimes the noun phrase can be a single phrase that is understood as a whole; sometimes it has a subject and an object that are understood as two phrases.\\nIf #1 contains a subject, then it is a sentence in its own right with a different word order (compare: He was not the president but the president):\\n\\n1 1 1\\n  Nooit de president maar een heer van staatsbezit was.\\n\\nIf #2 contains a subject, then it is a sentence in its own right with a different word order again, and the noun phrase is not a whole:\\n\\n2 1 2  2 2 1</td>\n",
       "    </tr>\n",
       "  </tbody>\n",
       "</table>\n",
       "</div>"
      ],
      "text/plain": [
       "                                    Task  \\\n",
       "0                     constituency parse   \n",
       "1                       dependency parse   \n",
       "2                              CCG parse   \n",
       "3                         semantic roles   \n",
       "4  abstract meaning representation (AMR)   \n",
       "5                 coreference resolution   \n",
       "\n",
       "                                                                                                                                                                                                                                                                                                                                                                                                                                                                                                                                                                                                                                                                                                                                                                                                                                                                                                                                                                                                                                                                                                                                                                                                                                                                                                                                                                                                                                                                                                                                                                                                                                                                                                                                                                                                                                                                                                                                                                                                                                                               Output  \n",
       "0                                                                                                                                                                                                                                                                            The task will only provide {world, little}, {will, note}, {not, long}, {say, here}, {but, it}, etc.\\nNote:  Only add one of each token in the list provided\\n\\nA:\\n\\nRegular Expression\\ngsub(/^(?:[^\\[\\]\\(\\)\\-\\.\\.\\s]*\\[([^\\]\\(\\)]*)|(\\^\\s*)\\])/ig, \"\\\\1\", yourSentence)\\n\\nReplace the [^,^\\[\\]\\(\\)\\-\\.\\.\\s]* with this \\K stuff. So, what all these stuff is doing is that it keeps the previous \\K stuff and then replaces the \\K stuff with what you want to replace it with. So, what this means is that, it is matching the non-space, non-comment, and non-digits at the beginning of the string up to the first [] or () that it can find. Then it creates a match that matches the whole of what it just matched plus everything that is after it. So, all \\K stuff is replaced with the stuff that it matched \\K the first thing that it matched. Here, \\s* matches a whole bunch of characters without spaces. \\s matches a sequence of characters that are not spaces.\\nSo, what we do here, first, is match up to the first [] or () and say that I want what is after and I want what is before what I just matched \\K. Then, once I get to that portion, I match everything that is after it. So, all of it. Now, the other stuff is this \\K stuff. So, \\K is \\K \\s and \\K is everything that is matched and didn't get replaced. So, this matches all of the characters after what is the first thing that you matched \\K and everything else that it matched. Then, it replaces it with the part that you want it to replace it with. So, that is an example of how \\K stuff is treated and what it matches.\\ngsub also returns the matched string, so it is optional in this example. In other examples, instead of \\K, or \\s, it would be passed in and you would do  \n",
       "1                                                                                                                                                                                                                                                                                                                                                                                                                                                                                                                                                                                                                                                                                                                                                                                                                                                                                                                                                                                                                                                                                                                                                                                                                                                                                                                                                                                                                                                                                                                                                                                                                                                                                                                                                     Predicate: NLP -> Dependency Parsing: SubjParc\\n\\nThis will result in the following list of tuples:\\n[(('will', 'little', None), None),  # The part before the punctuation marks\\n(('world', 'little', None), None),  # The part after the punctuation marks\\n((None, None), None),  # The rest of the sentence  \n",
       "2  Return the number of words in the sentence in the returned list.\\nThe task is given the sequence of the words (the sentence) as a sentence object.\\n(return-type list)\\n\\nTask: CCG parse\\nSentence: He gave up\\n\\nReturn the number of words in the sentence in the returned list.\\nThe task is given the sequence of the words (the sentence) as a sentence object.\\n(return-type list)\\n\\nTask: CCG parse\\nSentence: It's so small\\n\\nReturn the number of words in the sentence in the returned list.\\nThe task is given the sequence of the words (the sentence) as a sentence object.\\n(return-type list)\\n\\nTask: Find a given string in between two characters\\n\\nGet the first character that matches the given string, after removing the specified number of characters. For example, you may find a string: \"the\" in \"the horse\".\\nReturns nothing.\\n(return-type string)\\n\\nTask: Find a given string within a sentence\\n\\nSearch through a sentence and find the first index where the matching string occurs, then returns a list containing the first character of the matching string, after removing this character from the word at that index. For example, you may find a string: \"the\" in the sentence: The horse.\\nReturns nothing.\\n(return-type list)\\n\\nTask: Find a given string within a sentence\\n\\nSearch through a sentence and find the first index where the matching string occurs, then returns a list containing the first character of the matching string, after removing this character from the word at that index. For example, you may find a string: \"the\" in the sentence: He gave up.\\nReturns nothing.\\n(return-type list)\\n\\nTask: Find a given string within a sentence\\n\\nSearch through a sentence and find the first index where the matching string occurs, then returns a list containing the first character of the matching string, after removing this character from the word at that index. For example, you may find a string: \"the\" in the sentence: He gave up.\\nReturns nothing.\\n(return-type list)  \n",
       "3                                                                                                                                                              You are given a text, and you need to find the words which are the most semantically similar to `world`.\\nExample: https://nlp.stanford.edu/data/glove.840B.zip \\nSolution:\\nimport re\\n\\n# Define the variable for our dictionary\\n\\nWORLD = ['world', 'worlds']\\n\\nvocabulary = set()\\n\\ndef words_dict(sentence):\\n\\n# Iterate our sentence\\n\\nfor word in sentence.split(): # Split it into a list of characters\\n\\n# Filter the list and iterate it with the function\\n\\nfor word in word.lower().split():\\n\\nif word in WORLD:\\n\\n# If we find the word, add it to the dictionary\\n\\nvocabulary.add(word)\\n\\n# Return a list of all words in the sentence (note, in the example sentence, it's just a single word called `world`)\\n\\nreturn vocabulary\\n\\nsentence = \"\"\"The world will little note, nor long remember what we say here, but it can never forget what they did here.\"\"\"\\n\\nsolution = [] \\n\\n# Iterate the text and add the word to the dictionary\\n\\nfor word in words_dict(sentence): # Check if we found the word\\n\\nif word not in vocabulary: # If not in dictionary, add it\\n\\nsolution.append(word)\\n\\nreturn solution\\n\\nprint(solution)\\n\\nA:\\n\\nThere's several problems that come up from splitting a sentence and building a dictionary:\\n\\nThe code below uses a list comprehension instead of a for loop.  A list comprehension is almost as fast as a for loop, but the for loop will still be slightly faster due to the overhead of Python looping.  That being said, you should not really care.\\nFor each word in the list, you go through the list twice to look at each word in the dictionary.\\nThe Python dict type does not provide a unique key like the C++ one does:  This is why your dictionary becomes slow.\\n\\nI've updated the answer to take into account your suggestions for improvement, and created a version that does not use a dict.  The  \n",
       "4                                                                                                                                                                                                                                                  AMR\\n+------------+---------------+----------------------------------------+--------+\\n| Tag       | Word          | Syntax                                 | Diction\\n+------------+---------------+----------------------------------------+--------+\\n| Tm         | - - -         | The world - - - + - (noun)              |       |\\n| Tss         | - - -         | will - - - - little + - (adv)         |       |\\n| To         | - - -         | note - - - - - - (adv) - - - - + - (noun) |       |\\n| Pn         | - - -         | long + - - - - - - (adv) + - - - - + (noun) |       |\\n| Nc         | - - -         | never - - - - - - + (noun)            |       |\\n| Pb         | - - -         | to + - - - - - - (noun) + - - - - + - (adv) |       |\\n+------------+---------------+----------------------------------------+--------+\\n\\n*Note that there's no space between words in tags.*\\nAnd for future reference:\\nhttp://www.diveintomind.org/python/python-tag-trick.html\\n\\nA:\\n\\nYou're overdoing it. If you want a tagger you need to generate the parse trees (with their child nodes), and then you need to create a parse tree for each sentence you read in.\\nHowever, this doesn't have much to do with computer-science, and isn't really what a tagger is.\\nIf you just need to process the text, you have a pretty efficient algorithm to convert the text to a tree. If you really want to build a parser from the ground up, you need to find the basic ideas of parsing in a language (what a parse looks like). Also, even though the parsing technique you want to use (chomsky normal form or yacc) is pretty well-documented, there are other things to learn (especially in a context like python that allows a lot of parentheses and commas, etc., to be used.  \n",
       "5                                                                                                                                                                                                                                                                                                                                                                                                                                                                                                                                                                                                                                                                                                                                                                                   Output:\\nThe world will little note ... It can never forget what they did here.\\n\\nA:\\n\\nNot sure why you think this is an answer:\\n\\n1.1\\nThe world will little note, nor long remember what we say here\\n  2.2\\nThe world will little note, nor long remember what we say here, but it can never forget what they did here.\\n\\nAre these sentences actually parallel?\\nIf \"they said this here\" is a noun phrase: Then #1 and #2 are parallel, but your output is wrong: 1. and 2. should be 2. and 2.\\nIt seems your output should be:\\nThe world will little note, nor long remember what they said here, and it cannot forget what they did here.\\nAs far as i know in Dutch it is often difficult to tell these differences: Sometimes the noun phrase can be a single phrase that is understood as a whole; sometimes it has a subject and an object that are understood as two phrases.\\nIf #1 contains a subject, then it is a sentence in its own right with a different word order (compare: He was not the president but the president):\\n\\n1 1 1\\n  Nooit de president maar een heer van staatsbezit was.\\n\\nIf #2 contains a subject, then it is a sentence in its own right with a different word order again, and the noun phrase is not a whole:\\n\\n2 1 2  2 2 1  "
      ]
     },
     "metadata": {},
     "output_type": "display_data"
    },
    {
     "data": {
      "text/markdown": [
       "### Model: Pythia-2.8B"
      ],
      "text/plain": [
       "<IPython.core.display.Markdown object>"
      ]
     },
     "metadata": {},
     "output_type": "display_data"
    },
    {
     "data": {
      "text/markdown": [
       "**Sentence:** You know that smoodle pinkered and that I want to get him round and take care of him like you want before."
      ],
      "text/plain": [
       "<IPython.core.display.Markdown object>"
      ]
     },
     "metadata": {},
     "output_type": "display_data"
    },
    {
     "data": {
      "text/html": [
       "<div>\n",
       "<style scoped>\n",
       "    .dataframe tbody tr th:only-of-type {\n",
       "        vertical-align: middle;\n",
       "    }\n",
       "\n",
       "    .dataframe tbody tr th {\n",
       "        vertical-align: top;\n",
       "    }\n",
       "\n",
       "    .dataframe thead th {\n",
       "        text-align: right;\n",
       "    }\n",
       "</style>\n",
       "<table border=\"1\" class=\"dataframe\">\n",
       "  <thead>\n",
       "    <tr style=\"text-align: right;\">\n",
       "      <th></th>\n",
       "      <th>Task</th>\n",
       "      <th>Output</th>\n",
       "    </tr>\n",
       "  </thead>\n",
       "  <tbody>\n",
       "    <tr>\n",
       "      <th>0</th>\n",
       "      <td>constituency parse</td>\n",
       "      <td>My solution looks like\\nString sentence = \"You know that smoodle pinkered and that I want to get him round and take care of him like you want before.\";\\nString[] tokens = sentence.split(\" \");\\n\\nString keySet = sentence.substring(0, sentence.lastIndexOf(\", \")+1);\\nString[] tokenSet = new String[tokens.length];\\n\\nfor (int i=0; i &lt; tokens.length; i++){\\ntokenSet[i] = tokens[i];\\n}\\n\\nString[] tokensArray1 = new String[tokenSet.length];\\nfor (int x=0; x&lt; keySet.length(); x++){\\n for (int i=1; i&lt;keySet.length(); i++){\\n  tokensArray1[x-1] = keySet.substring(x, i) + \".\" + tokenSet[i-1];\\n }\\n  System.out.println(tokensArray1[0]); \\n }\\n\\nKeySet can be made to be [before, after, during] and then used to give the token in the string. It is a good practice to first test the solution with some strings for validation.  For example:\\nString sentence = \"You know that smoodle pinkered and that I want to get him round and take care of him like you want before.\", \\nString keySet = \"before, during, after\",\\nString tokenSet = \"before\";\\nString []tokensArray1 = Tokenizer.tokenize(sentence, tokenSet);\\nSystem.out.println(Arrays.toString(tokensArray1));\\n\\nShould output:\\n[before, you know, during, that, I, want, to, get, him, round, and, take, care, like]</td>\n",
       "    </tr>\n",
       "    <tr>\n",
       "      <th>1</th>\n",
       "      <td>dependency parse</td>\n",
       "      <td>So, please let's start an\\ndepreciated activity of mine.\\nExample:\\nInput: You know that smoodle pinkered and that I want to get him round and take care of him like you want before. So, please let's start\\nan\\ndepreciated activity of mine.\\nDep:\\ndependency[1]({\\n    \"depObject\": {\\n        \"target\": {\\n            \"arg0\": \"You know\",\\n            \"arg1\": \"that\",\\n            \"arg2\": \"smoodle\",\\n            \"arg3\": \"pinkered\",\\n            \"arg4\": \"and\",\\n            \"arg5\": \"that\",\\n            \"arg6\": \"I want\",\\n            \"arg7\": \"to get\",\\n            \"arg8\": \"him\",\\n            \"arg9\": \"round\",\\n            \"arg10\": \"and\",\\n            \"arg11\": \"take\",\\n            \"arg12\": \"care\",\\n            \"arg13\": \"of him\",\\n            \"arg14\": \"like\",\\n            \"arg15\": \"you\"\\n        },\\n        \"left\": []\\n    }\\n});\\n\\nOutput:\\ndepreciated activity of mine\\ninput - \"input\"\\ndep - \"dependency\"\\nObject of\\ntype - \"module\"\\nname - \"dependency\"\\nlength - \"15\"\\ninstance - \"1\"\\ndep array - \"6\"\\nleft - []\\n\\nAnd here is a file \"input\" and \"dep\", a text file in a \"test-dep\" directory. \\nSo far I managed to create the module with the following function:\\nvar dep = require(\"./test-dep/\");\\nvar config = require(\"./test-config/\");    \\n\\nfunction newModule(text){\\nconsole.log(\"Input: \"+text+\"\\nmodule name: \"+text);    \\n//var text = JSON.stringify($(text)+\"\\n\\n\",null,2);\\nvar text = text.replace(/\"/g,\"\");    \\nvar text = text.replace(/;/g,\"\")(\\n{\\n    \"input\": text,</td>\n",
       "    </tr>\n",
       "    <tr>\n",
       "      <th>2</th>\n",
       "      <td>CCG parse</td>\n",
       "      <td>he gets out of his head the second he starts talking.\\nSolution (0:50)\\nHow many digits have this number\\n-6\\nWhat it means\\n\\nI should get a \"F\" because a number will be an integer if all three digits are of different types.  The number can be divided into 100 groups (the groups would be based on the type of digit that each digit is).  The type of number can be determined based on the last number or group of numbers (e.g. the last number would be the 5th, 10th, or 100th since all of those have the highest number of groups that consists of different types of numbers.  \\nHow do I find the type of number?\\nWe can use the .{1,4}.{3,4} regex to define the rule (and .*? can be omitted if it does not match because nothing is consumed by the regex).  The first and the last (or only time there is one) digit in a group of a number is of type 3 (since there are 4 types).\\nIf all of the digits have an even number of groups (or only two or three digits have odd numbers of groups), the number is a normal number.  Otherwise, the number is floating or a variable-length integer number.  That means that:\\n\\nFully Floating: a Floating number has one number that has an even number of groups and a value that is determined by the digits that follow.\\nVariable Length: The length of the final result is the sum of the lengths of each number that precedes it.  In cases of floating numbers only, this is the total number of digits.  If at least one of the digits has an even number of groups, then the result of the final number is also the number of digits that follow this last number.  In other words, the final number is the maximum number of digits.  This is not the largest value.\\n\\nLet's see some of these examples:\\nExamples: F\\n.{1,4}.{3,4}: F (Fully Floating)\\n.{1.2,3}: FF\\n.{1.1,2}: F\\n.</td>\n",
       "    </tr>\n",
       "    <tr>\n",
       "      <th>3</th>\n",
       "      <td>semantic roles</td>\n",
       "      <td>Task Output: (I want X to do Y which is the same as saying that Y is a way of X)\\nResult: A relation.\\n\\nThis is a good idea because it is a problem where the solution depends on the domain.\\n\\nIn this case we would use a rule like:\\n\\nThere is a relation between X and Y if and only if (there would be)\\n\\nor \\nTo solve the problem in a more flexible manner, you could use a list of relations as follows:\\n\\nList of relations\\nTo check whether there is a relation between X and Y use the following rule:\\n\\nThere is a relation between X and Y.\\n\\nand then write out a list of relations that would satisfy this rule (e.g. A, B, C), and that would also be a relation like above. Then use the same rule above to check which of the relations satisfied this rule and then write the corresponding relations below them. In this way, the relations would be sorted by the relation they satisfy.\\n\\nThere is a relation between X and Y if and only if\\n\\n \\nThere is also \\n\\nand the first is a relation that is not already in the first one.\\n\\nThe list could include relations that are a relation above the one under the relation (e.g. A, B, C, D are all above A).\\n\\nTo check whether there is a relation between X and Y, you can try various combinations and apply your reasoning. Here is an attempt to illustrate how it could be done:\\n\\nThis is not a relation.\\n\\n (there is not anything that is X is a relation to Y.\\n\\nYou can also ask \"How the heck is that even a relationship? It's not correct\" but you get into this sort of nonsense that is beyond questioners mind. So, the rule can become too much work.\\nIf none of these are a solution, maybe adding some sort of test like in (3) would allow you to know which one in (1) would suit.\\n\\nA:\\n\\nHere's one way to implement a Relation as a data type (I didn't want to leave aside the semantic part, but you may try to</td>\n",
       "    </tr>\n",
       "    <tr>\n",
       "      <th>4</th>\n",
       "      <td>abstract meaning representation (AMR)</td>\n",
       "      <td>Output: You know that smoodle pinkered and that I (am) (going) to get him round and (h) (ave) (y) a (p) (in) (n) (i) t (o) (i) (t) (o) (with) (you) (w) h (ave) (n) to get h e (round) and take him (h) ave (cure) like you (w) (h) (d) o (nt) (a)t (h) m a (re) (e) (cure) like (s) (m) oo (d) (h) i (m) (e) f (or) (u).\\n\\nThe given solution will not work. The current solution would be just as good.\\nTo be more specific: I know that \"smoodle\" can be considered as an abstract \"a word\". But to define \"pinkered\" would be more complicated and I cannot figure out an efficient way to get that sentence's \"meaning\".\\n\\nA:\\n\\nThis is a simple example. If you want to extend, you need to do the same. I didn't use any fancy maths so this could be improved if you want to.\\nimport re\\n\\ndef convert_input(input_str):\\n    out_str = \"\"\\n    output_str = []\\n    input_start_index = 0\\n    input_end = len(input_str)\\n    for jj in range(input_end, len(input_str)):\\n        index = input_start_index + jj\\n        token = input_str[index:index+2]\\n\\n        if token.isdigit():\\n            out_str += token\\n        else:\\n            output_str.append(token)\\n            out_str += input_str[index] + input_end\\n\\n        input_start_index = index + 1+2\\n    return out_str + output_str\\n\\ndef convert_output_to_input_str(output_str):\\n    output_str = \"|</td>\n",
       "    </tr>\n",
       "    <tr>\n",
       "      <th>5</th>\n",
       "      <td>coreference resolution</td>\n",
       "      <td>Output: (1) you and (1) me and (1) him, which is the same as the original sentence and I want to get (2) him round and (2) take care of him like you want before.\\nThe sentence is the query of the question.\\n\\nA:\\n\\nTry below regex:\\n\\bSmoodle\\b\\s\\D*[(](?:((?&gt;[^(?!)]+))*)?)\\n\\nRegEx Demo\\nThe regex will find all the matches and it will not allow to insert .\\nThe regex will check for the presence of \\bSmoodle\\b inside the sentence, \\D* will check for 0 or more consecutive characters that is not a digit character [1-9] and we capture entire word for example :\\nYou know that Smoodle pinkered and that I want to get him round and take care of him like you want before.\\n\\nOutput: The following regex results are the expected output:\\nMATCH ONE: \\bSmoodle\\b\\s\\D*[(](?:((?&gt;[^(?!)]+))*)?)\\n\\nMATCH TOTAL: 10\\n\\nMATCH TWO: \\b([^()]+)\\n\\nMATCH THREE: \\1. (?=([^()]+(?:\\))){1}\\n\\nMATCH FOUR: (?:((?&gt;[^()]+))+)\\n\\nSo our expression will only find the words inside the sentence that are between (?:((?&gt;[^()]+))+) .\\nFor above match 1, the first captured group will be Smoodle, then the next matched group will be (?:((?&gt;[^()]+))+) that captures the first matched pair in parentheses\\nMATCH TOTAL: 10\\n\\nMATCH ONE: \\b([^()]+)\\n\\nMATCH TOTAL: 10\\n\\nMATCH TWO: \\2. (?=([^()]+(?:\\))){1}\\n\\nMATCH THREE: (?:((?&gt;[^()]+))+)\\n\\nMATCH FOUR: (?:((?&gt;[^()]+))+)\\n\\nMATCH ONE: You and Me and him, which is the same as the original sentence and I want to get them round and take care of</td>\n",
       "    </tr>\n",
       "  </tbody>\n",
       "</table>\n",
       "</div>"
      ],
      "text/plain": [
       "                                    Task  \\\n",
       "0                     constituency parse   \n",
       "1                       dependency parse   \n",
       "2                              CCG parse   \n",
       "3                         semantic roles   \n",
       "4  abstract meaning representation (AMR)   \n",
       "5                 coreference resolution   \n",
       "\n",
       "                                                                                                                                                                                                                                                                                                                                                                                                                                                                                                                                                                                                                                                                                                                                                                                                                                                                                                                                                                                                                                                                                                                                                                                                                                                                                                                                                                                                                                                                                                                                                                                                                                                                                                                                                                                                                                                                                                                                   Output  \n",
       "0                                                                                                                                                                                                                                                                                                                                                                                                                                                                                                                                                                                                                               My solution looks like\\nString sentence = \"You know that smoodle pinkered and that I want to get him round and take care of him like you want before.\";\\nString[] tokens = sentence.split(\" \");\\n\\nString keySet = sentence.substring(0, sentence.lastIndexOf(\", \")+1);\\nString[] tokenSet = new String[tokens.length];\\n\\nfor (int i=0; i < tokens.length; i++){\\ntokenSet[i] = tokens[i];\\n}\\n\\nString[] tokensArray1 = new String[tokenSet.length];\\nfor (int x=0; x< keySet.length(); x++){\\n for (int i=1; i<keySet.length(); i++){\\n  tokensArray1[x-1] = keySet.substring(x, i) + \".\" + tokenSet[i-1];\\n }\\n  System.out.println(tokensArray1[0]); \\n }\\n\\nKeySet can be made to be [before, after, during] and then used to give the token in the string. It is a good practice to first test the solution with some strings for validation.  For example:\\nString sentence = \"You know that smoodle pinkered and that I want to get him round and take care of him like you want before.\", \\nString keySet = \"before, during, after\",\\nString tokenSet = \"before\";\\nString []tokensArray1 = Tokenizer.tokenize(sentence, tokenSet);\\nSystem.out.println(Arrays.toString(tokensArray1));\\n\\nShould output:\\n[before, you know, during, that, I, want, to, get, him, round, and, take, care, like]  \n",
       "1                                                                                                                                                                                                                                                                                                                                                                                               So, please let's start an\\ndepreciated activity of mine.\\nExample:\\nInput: You know that smoodle pinkered and that I want to get him round and take care of him like you want before. So, please let's start\\nan\\ndepreciated activity of mine.\\nDep:\\ndependency[1]({\\n    \"depObject\": {\\n        \"target\": {\\n            \"arg0\": \"You know\",\\n            \"arg1\": \"that\",\\n            \"arg2\": \"smoodle\",\\n            \"arg3\": \"pinkered\",\\n            \"arg4\": \"and\",\\n            \"arg5\": \"that\",\\n            \"arg6\": \"I want\",\\n            \"arg7\": \"to get\",\\n            \"arg8\": \"him\",\\n            \"arg9\": \"round\",\\n            \"arg10\": \"and\",\\n            \"arg11\": \"take\",\\n            \"arg12\": \"care\",\\n            \"arg13\": \"of him\",\\n            \"arg14\": \"like\",\\n            \"arg15\": \"you\"\\n        },\\n        \"left\": []\\n    }\\n});\\n\\nOutput:\\ndepreciated activity of mine\\ninput - \"input\"\\ndep - \"dependency\"\\nObject of\\ntype - \"module\"\\nname - \"dependency\"\\nlength - \"15\"\\ninstance - \"1\"\\ndep array - \"6\"\\nleft - []\\n\\nAnd here is a file \"input\" and \"dep\", a text file in a \"test-dep\" directory. \\nSo far I managed to create the module with the following function:\\nvar dep = require(\"./test-dep/\");\\nvar config = require(\"./test-config/\");    \\n\\nfunction newModule(text){\\nconsole.log(\"Input: \"+text+\"\\nmodule name: \"+text);    \\n//var text = JSON.stringify($(text)+\"\\n\\n\",null,2);\\nvar text = text.replace(/\"/g,\"\");    \\nvar text = text.replace(/;/g,\"\")(\\n{\\n    \"input\": text,  \n",
       "2                                                                   he gets out of his head the second he starts talking.\\nSolution (0:50)\\nHow many digits have this number\\n-6\\nWhat it means\\n\\nI should get a \"F\" because a number will be an integer if all three digits are of different types.  The number can be divided into 100 groups (the groups would be based on the type of digit that each digit is).  The type of number can be determined based on the last number or group of numbers (e.g. the last number would be the 5th, 10th, or 100th since all of those have the highest number of groups that consists of different types of numbers.  \\nHow do I find the type of number?\\nWe can use the .{1,4}.{3,4} regex to define the rule (and .*? can be omitted if it does not match because nothing is consumed by the regex).  The first and the last (or only time there is one) digit in a group of a number is of type 3 (since there are 4 types).\\nIf all of the digits have an even number of groups (or only two or three digits have odd numbers of groups), the number is a normal number.  Otherwise, the number is floating or a variable-length integer number.  That means that:\\n\\nFully Floating: a Floating number has one number that has an even number of groups and a value that is determined by the digits that follow.\\nVariable Length: The length of the final result is the sum of the lengths of each number that precedes it.  In cases of floating numbers only, this is the total number of digits.  If at least one of the digits has an even number of groups, then the result of the final number is also the number of digits that follow this last number.  In other words, the final number is the maximum number of digits.  This is not the largest value.\\n\\nLet's see some of these examples:\\nExamples: F\\n.{1,4}.{3,4}: F (Fully Floating)\\n.{1.2,3}: FF\\n.{1.1,2}: F\\n.  \n",
       "3  Task Output: (I want X to do Y which is the same as saying that Y is a way of X)\\nResult: A relation.\\n\\nThis is a good idea because it is a problem where the solution depends on the domain.\\n\\nIn this case we would use a rule like:\\n\\nThere is a relation between X and Y if and only if (there would be)\\n\\nor \\nTo solve the problem in a more flexible manner, you could use a list of relations as follows:\\n\\nList of relations\\nTo check whether there is a relation between X and Y use the following rule:\\n\\nThere is a relation between X and Y.\\n\\nand then write out a list of relations that would satisfy this rule (e.g. A, B, C), and that would also be a relation like above. Then use the same rule above to check which of the relations satisfied this rule and then write the corresponding relations below them. In this way, the relations would be sorted by the relation they satisfy.\\n\\nThere is a relation between X and Y if and only if\\n\\n \\nThere is also \\n\\nand the first is a relation that is not already in the first one.\\n\\nThe list could include relations that are a relation above the one under the relation (e.g. A, B, C, D are all above A).\\n\\nTo check whether there is a relation between X and Y, you can try various combinations and apply your reasoning. Here is an attempt to illustrate how it could be done:\\n\\nThis is not a relation.\\n\\n (there is not anything that is X is a relation to Y.\\n\\nYou can also ask \"How the heck is that even a relationship? It's not correct\" but you get into this sort of nonsense that is beyond questioners mind. So, the rule can become too much work.\\nIf none of these are a solution, maybe adding some sort of test like in (3) would allow you to know which one in (1) would suit.\\n\\nA:\\n\\nHere's one way to implement a Relation as a data type (I didn't want to leave aside the semantic part, but you may try to  \n",
       "4                                                                                                                                                                                                                                                                                                                                                                                                                                                                                                                                      Output: You know that smoodle pinkered and that I (am) (going) to get him round and (h) (ave) (y) a (p) (in) (n) (i) t (o) (i) (t) (o) (with) (you) (w) h (ave) (n) to get h e (round) and take him (h) ave (cure) like you (w) (h) (d) o (nt) (a)t (h) m a (re) (e) (cure) like (s) (m) oo (d) (h) i (m) (e) f (or) (u).\\n\\nThe given solution will not work. The current solution would be just as good.\\nTo be more specific: I know that \"smoodle\" can be considered as an abstract \"a word\". But to define \"pinkered\" would be more complicated and I cannot figure out an efficient way to get that sentence's \"meaning\".\\n\\nA:\\n\\nThis is a simple example. If you want to extend, you need to do the same. I didn't use any fancy maths so this could be improved if you want to.\\nimport re\\n\\ndef convert_input(input_str):\\n    out_str = \"\"\\n    output_str = []\\n    input_start_index = 0\\n    input_end = len(input_str)\\n    for jj in range(input_end, len(input_str)):\\n        index = input_start_index + jj\\n        token = input_str[index:index+2]\\n\\n        if token.isdigit():\\n            out_str += token\\n        else:\\n            output_str.append(token)\\n            out_str += input_str[index] + input_end\\n\\n        input_start_index = index + 1+2\\n    return out_str + output_str\\n\\ndef convert_output_to_input_str(output_str):\\n    output_str = \"|  \n",
       "5                                                                                                                                                                                                                                                                                                                                                                                                              Output: (1) you and (1) me and (1) him, which is the same as the original sentence and I want to get (2) him round and (2) take care of him like you want before.\\nThe sentence is the query of the question.\\n\\nA:\\n\\nTry below regex:\\n\\bSmoodle\\b\\s\\D*[(](?:((?>[^(?!)]+))*)?)\\n\\nRegEx Demo\\nThe regex will find all the matches and it will not allow to insert .\\nThe regex will check for the presence of \\bSmoodle\\b inside the sentence, \\D* will check for 0 or more consecutive characters that is not a digit character [1-9] and we capture entire word for example :\\nYou know that Smoodle pinkered and that I want to get him round and take care of him like you want before.\\n\\nOutput: The following regex results are the expected output:\\nMATCH ONE: \\bSmoodle\\b\\s\\D*[(](?:((?>[^(?!)]+))*)?)\\n\\nMATCH TOTAL: 10\\n\\nMATCH TWO: \\b([^()]+)\\n\\nMATCH THREE: \\1. (?=([^()]+(?:\\))){1}\\n\\nMATCH FOUR: (?:((?>[^()]+))+)\\n\\nSo our expression will only find the words inside the sentence that are between (?:((?>[^()]+))+) .\\nFor above match 1, the first captured group will be Smoodle, then the next matched group will be (?:((?>[^()]+))+) that captures the first matched pair in parentheses\\nMATCH TOTAL: 10\\n\\nMATCH ONE: \\b([^()]+)\\n\\nMATCH TOTAL: 10\\n\\nMATCH TWO: \\2. (?=([^()]+(?:\\))){1}\\n\\nMATCH THREE: (?:((?>[^()]+))+)\\n\\nMATCH FOUR: (?:((?>[^()]+))+)\\n\\nMATCH ONE: You and Me and him, which is the same as the original sentence and I want to get them round and take care of  "
      ]
     },
     "metadata": {},
     "output_type": "display_data"
    }
   ],
   "source": [
    "pythia_sen1_df, pythia_sen2_df = process_and_display_results(\n",
    "    sentences=[sen_1,sen_2],\n",
    "    tasks=tasks,\n",
    "    model_name=\"Pythia-2.8B\",\n",
    "    query_function=query_pythia\n",
    ")"
   ]
  },
  {
   "cell_type": "code",
   "execution_count": 8,
   "metadata": {},
   "outputs": [
    {
     "name": "stdout",
     "output_type": "stream",
     "text": [
      "Constituency Parsing tree (sentence: The world will little note, nor long remember what we say here, but it can never forget what they did here.):\n",
      "The task will only provide {world, little}, {will, note}, {not, long}, {say, here}, {but, it}, etc.\n",
      "Note:  Only add one of each token in the list provided\n",
      "\n",
      "A:\n",
      "\n",
      "Regular Expression\n",
      "gsub(/^(?:[^\\[\\]\\(\\)\\-\\.\\.\\s]*\\[([^\\]\\(\\)]*)|(\\^\\s*)\\])/ig, \"\\\\1\", yourSentence)\n",
      "\n",
      "Replace the [^,^\\[\\]\\(\\)\\-\\.\\.\\s]* with this \\K stuff. So, what all these stuff is doing is that it keeps the previous \\K stuff and then replaces the \\K stuff with what you want to replace it with. So, what this means is that, it is matching the non-space, non-comment, and non-digits at the beginning of the string up to the first [] or () that it can find. Then it creates a match that matches the whole of what it just matched plus everything that is after it. So, all \\K stuff is replaced with the stuff that it matched \\K the first thing that it matched. Here, \\s* matches a whole bunch of characters without spaces. \\s matches a sequence of characters that are not spaces.\n",
      "So, what we do here, first, is match up to the first [] or () and say that I want what is after and I want what is before what I just matched \\K. Then, once I get to that portion, I match everything that is after it. So, all of it. Now, the other stuff is this \\K stuff. So, \\K is \\K \\s and \\K is everything that is matched and didn't get replaced. So, this matches all of the characters after what is the first thing that you matched \\K and everything else that it matched. Then, it replaces it with the part that you want it to replace it with. So, that is an example of how \\K stuff is treated and what it matches.\n",
      "gsub also returns the matched string, so it is optional in this example. In other examples, instead of \\K, or \\s, it would be passed in and you would do\n"
     ]
    }
   ],
   "source": [
    "print(f\"Constituency Parsing tree (sentence: {sen_1}):\\n{pythia_sen1_df.iloc[0,1]}\")"
   ]
  },
  {
   "cell_type": "code",
   "execution_count": 9,
   "metadata": {},
   "outputs": [
    {
     "data": {
      "text/markdown": [
       "### Model: T5-Small"
      ],
      "text/plain": [
       "<IPython.core.display.Markdown object>"
      ]
     },
     "metadata": {},
     "output_type": "display_data"
    },
    {
     "data": {
      "text/markdown": [
       "**Sentence:** The world will little note, nor long remember what we say here, but it can never forget what they did here."
      ],
      "text/plain": [
       "<IPython.core.display.Markdown object>"
      ]
     },
     "metadata": {},
     "output_type": "display_data"
    },
    {
     "data": {
      "text/html": [
       "<div>\n",
       "<style scoped>\n",
       "    .dataframe tbody tr th:only-of-type {\n",
       "        vertical-align: middle;\n",
       "    }\n",
       "\n",
       "    .dataframe tbody tr th {\n",
       "        vertical-align: top;\n",
       "    }\n",
       "\n",
       "    .dataframe thead th {\n",
       "        text-align: right;\n",
       "    }\n",
       "</style>\n",
       "<table border=\"1\" class=\"dataframe\">\n",
       "  <thead>\n",
       "    <tr style=\"text-align: right;\">\n",
       "      <th></th>\n",
       "      <th>Task</th>\n",
       "      <th>Output</th>\n",
       "    </tr>\n",
       "  </thead>\n",
       "  <tbody>\n",
       "    <tr>\n",
       "      <th>0</th>\n",
       "      <td>constituency parse</td>\n",
       "      <td>&lt;pad&gt; : E:; Re: Rep; d) Die wichtigsten Funktionen: Perform the following task in the given sentence; also perform the following task in the given sentence, and only provide the desired product: Task: constituency parse Sentence: The world will little note, nor long remember what we say here, but it can never forget what they did here.</td>\n",
       "    </tr>\n",
       "    <tr>\n",
       "      <th>1</th>\n",
       "      <td>dependency parse</td>\n",
       "      <td>&lt;pad&gt; If you ask yourself as follows: --&gt;(-&gt;)-&gt;(-&gt;).</td>\n",
       "    </tr>\n",
       "    <tr>\n",
       "      <th>2</th>\n",
       "      <td>CCG parse</td>\n",
       "      <td>&lt;pad&gt; The world will little note, nor long remember what we said here, but it can never forget what they did here.</td>\n",
       "    </tr>\n",
       "    <tr>\n",
       "      <th>3</th>\n",
       "      <td>semantic roles</td>\n",
       "      <td>&lt;pad&gt; Man muss die folgenden Task über die gegebene sentence erfüllen und nur die Ziel Ausgaben: Task: semantic roles Sentence: Die Welt wird wenig notiert, nicht long remember what we say here, aber we can never forget what they did here.</td>\n",
       "    </tr>\n",
       "    <tr>\n",
       "      <th>4</th>\n",
       "      <td>abstract meaning representation (AMR)</td>\n",
       "      <td>&lt;pad&gt; Perform the following task on the given sentence and provide the desired output: Task: task: task: task: task: task: tâche: Task: task abstract meaning representation (AMR) Sensence: the world will few note, nor long remember what we say here, but it can never forget what they did here.</td>\n",
       "    </tr>\n",
       "    <tr>\n",
       "      <th>5</th>\n",
       "      <td>coreference resolution</td>\n",
       "      <td>&lt;pad&gt; Fuilm, bündig: A 0- 7 3 1 4.</td>\n",
       "    </tr>\n",
       "  </tbody>\n",
       "</table>\n",
       "</div>"
      ],
      "text/plain": [
       "                                    Task  \\\n",
       "0                     constituency parse   \n",
       "1                       dependency parse   \n",
       "2                              CCG parse   \n",
       "3                         semantic roles   \n",
       "4  abstract meaning representation (AMR)   \n",
       "5                 coreference resolution   \n",
       "\n",
       "                                                                                                                                                                                                                                                                                                                                              Output  \n",
       "0  <pad> : E:; Re: Rep; d) Die wichtigsten Funktionen: Perform the following task in the given sentence; also perform the following task in the given sentence, and only provide the desired product: Task: constituency parse Sentence: The world will little note, nor long remember what we say here, but it can never forget what they did here.  \n",
       "1                                                                                                                                                                                                                                                                                               <pad> If you ask yourself as follows: -->(->)->(->).  \n",
       "2                                                                                                                                                                                                                                 <pad> The world will little note, nor long remember what we said here, but it can never forget what they did here.  \n",
       "3                                                                                                    <pad> Man muss die folgenden Task über die gegebene sentence erfüllen und nur die Ziel Ausgaben: Task: semantic roles Sentence: Die Welt wird wenig notiert, nicht long remember what we say here, aber we can never forget what they did here.  \n",
       "4                                              <pad> Perform the following task on the given sentence and provide the desired output: Task: task: task: task: task: task: tâche: Task: task abstract meaning representation (AMR) Sensence: the world will few note, nor long remember what we say here, but it can never forget what they did here.  \n",
       "5                                                                                                                                                                                                                                                                                                                 <pad> Fuilm, bündig: A 0- 7 3 1 4.  "
      ]
     },
     "metadata": {},
     "output_type": "display_data"
    },
    {
     "data": {
      "text/markdown": [
       "### Model: T5-Small"
      ],
      "text/plain": [
       "<IPython.core.display.Markdown object>"
      ]
     },
     "metadata": {},
     "output_type": "display_data"
    },
    {
     "data": {
      "text/markdown": [
       "**Sentence:** You know that smoodle pinkered and that I want to get him round and take care of him like you want before."
      ],
      "text/plain": [
       "<IPython.core.display.Markdown object>"
      ]
     },
     "metadata": {},
     "output_type": "display_data"
    },
    {
     "data": {
      "text/html": [
       "<div>\n",
       "<style scoped>\n",
       "    .dataframe tbody tr th:only-of-type {\n",
       "        vertical-align: middle;\n",
       "    }\n",
       "\n",
       "    .dataframe tbody tr th {\n",
       "        vertical-align: top;\n",
       "    }\n",
       "\n",
       "    .dataframe thead th {\n",
       "        text-align: right;\n",
       "    }\n",
       "</style>\n",
       "<table border=\"1\" class=\"dataframe\">\n",
       "  <thead>\n",
       "    <tr style=\"text-align: right;\">\n",
       "      <th></th>\n",
       "      <th>Task</th>\n",
       "      <th>Output</th>\n",
       "    </tr>\n",
       "  </thead>\n",
       "  <tbody>\n",
       "    <tr>\n",
       "      <th>0</th>\n",
       "      <td>constituency parse</td>\n",
       "      <td>&lt;pad&gt; :.</td>\n",
       "    </tr>\n",
       "    <tr>\n",
       "      <th>1</th>\n",
       "      <td>dependency parse</td>\n",
       "      <td>&lt;pad&gt; : i get the chance to get him from the wall.</td>\n",
       "    </tr>\n",
       "    <tr>\n",
       "      <th>2</th>\n",
       "      <td>CCG parse</td>\n",
       "      <td>&lt;pad&gt; :</td>\n",
       "    </tr>\n",
       "    <tr>\n",
       "      <th>3</th>\n",
       "      <td>semantic roles</td>\n",
       "      <td>&lt;pad&gt; Dieses Beispiel zeigt eine ausführliche Auswahl des moodle.</td>\n",
       "    </tr>\n",
       "    <tr>\n",
       "      <th>4</th>\n",
       "      <td>abstract meaning representation (AMR)</td>\n",
       "      <td>&lt;pad&gt; Performing the following task on the given sentence and provide the desired output: Task: abstract meaning representation representation (AMR) Sentence: You know that smoodle pinkered and that I want to get him round and take care of him like you want before.</td>\n",
       "    </tr>\n",
       "    <tr>\n",
       "      <th>5</th>\n",
       "      <td>coreference resolution</td>\n",
       "      <td>&lt;pad&gt; Man will die folgenden Aufgaben in einer bestimmten endenze absolvieren und deren Ergebnisse nur angegeben werden können: Task: coreference resolution Sentence: smoodle pinkered and i want to get him round and take care of him like you wanted before.</td>\n",
       "    </tr>\n",
       "  </tbody>\n",
       "</table>\n",
       "</div>"
      ],
      "text/plain": [
       "                                    Task  \\\n",
       "0                     constituency parse   \n",
       "1                       dependency parse   \n",
       "2                              CCG parse   \n",
       "3                         semantic roles   \n",
       "4  abstract meaning representation (AMR)   \n",
       "5                 coreference resolution   \n",
       "\n",
       "                                                                                                                                                                                                                                                                      Output  \n",
       "0                                                                                                                                                                                                                                                                   <pad> :.  \n",
       "1                                                                                                                                                                                                                         <pad> : i get the chance to get him from the wall.  \n",
       "2                                                                                                                                                                                                                                                                    <pad> :  \n",
       "3                                                                                                                                                                                                          <pad> Dieses Beispiel zeigt eine ausführliche Auswahl des moodle.  \n",
       "4  <pad> Performing the following task on the given sentence and provide the desired output: Task: abstract meaning representation representation (AMR) Sentence: You know that smoodle pinkered and that I want to get him round and take care of him like you want before.  \n",
       "5           <pad> Man will die folgenden Aufgaben in einer bestimmten endenze absolvieren und deren Ergebnisse nur angegeben werden können: Task: coreference resolution Sentence: smoodle pinkered and i want to get him round and take care of him like you wanted before.  "
      ]
     },
     "metadata": {},
     "output_type": "display_data"
    }
   ],
   "source": [
    "t5_sen1_df, t5_sen2_df = process_and_display_results(\n",
    "    sentences=[sen_1,sen_2],\n",
    "    tasks=tasks,\n",
    "    model_name=\"T5-Small\",\n",
    "    query_function=query_t5\n",
    ")"
   ]
  },
  {
   "cell_type": "code",
   "execution_count": 10,
   "metadata": {},
   "outputs": [
    {
     "name": "stdout",
     "output_type": "stream",
     "text": [
      "Constituency Parsing tree (sentence: The world will little note, nor long remember what we say here, but it can never forget what they did here.):\n",
      "<pad> : E:; Re: Rep; d) Die wichtigsten Funktionen: Perform the following task in the given sentence; also perform the following task in the given sentence, and only provide the desired product: Task: constituency parse Sentence: The world will little note, nor long remember what we say here, but it can never forget what they did here.\n"
     ]
    }
   ],
   "source": [
    "print(f\"Constituency Parsing tree (sentence: {sen_1}):\\n{t5_sen1_df.iloc[0,1]}\")"
   ]
  },
  {
   "cell_type": "markdown",
   "metadata": {},
   "source": [
    "## Write-Up\n",
    "\n",
    "The **Pythia** model showed some understanding of the task prompts but struggled to produce structured and coherent outputs for tasks such as constituency parsing, dependency parsing, and semantic role labeling. While its results reflected some syntactic awareness, they were overly verbose and deviated from the expected formats, often including irrelevant or extraneous information. For example, in the dependency parsing task, Pythia generated a detailed word-to-word dependency list but failed to maintain conciseness and interpretability. Its abstract meaning representation (AMR) outputs were also imprecise, displaying partial alignment with the sentence's semantic structure. These limitations highlight Pythia's general-purpose design, making it less effective for structured NLP tasks without fine-tuning.\n",
    "\n",
    "The **T5** model exhibited better performance than Pythia in terms of output relevance and task-specific accuracy. Its sequence-to-sequence architecture helped it align with parsing tasks like constituency parsing and AMR, where the results were closer to the expected format. For example, T5's semantic role labeling demonstrated better identification of agents and actions compared to Pythia, albeit still lacking detail in some complex cases. However, like Pythia, T5 also struggled with tasks requiring deeper semantic understanding, such as coreference resolution and AMR, producing inconsistent and partial results. Overall, T5's outputs were more concise and task-focused than Pythia's, but it still requires fine-tuning for robust handling of such specialized tasks.\n"
   ]
  },
  {
   "cell_type": "markdown",
   "metadata": {},
   "source": [
    "## Bonus"
   ]
  },
  {
   "cell_type": "code",
   "execution_count": 11,
   "metadata": {},
   "outputs": [
    {
     "data": {
      "text/markdown": [
       "### Model: GPT-4"
      ],
      "text/plain": [
       "<IPython.core.display.Markdown object>"
      ]
     },
     "metadata": {},
     "output_type": "display_data"
    },
    {
     "data": {
      "text/markdown": [
       "**Sentence:** The world will little note, nor long remember what we say here, but it can never forget what they did here."
      ],
      "text/plain": [
       "<IPython.core.display.Markdown object>"
      ]
     },
     "metadata": {},
     "output_type": "display_data"
    },
    {
     "data": {
      "text/html": [
       "<div>\n",
       "<style scoped>\n",
       "    .dataframe tbody tr th:only-of-type {\n",
       "        vertical-align: middle;\n",
       "    }\n",
       "\n",
       "    .dataframe tbody tr th {\n",
       "        vertical-align: top;\n",
       "    }\n",
       "\n",
       "    .dataframe thead th {\n",
       "        text-align: right;\n",
       "    }\n",
       "</style>\n",
       "<table border=\"1\" class=\"dataframe\">\n",
       "  <thead>\n",
       "    <tr style=\"text-align: right;\">\n",
       "      <th></th>\n",
       "      <th>Task</th>\n",
       "      <th>Output</th>\n",
       "    </tr>\n",
       "  </thead>\n",
       "  <tbody>\n",
       "    <tr>\n",
       "      <th>0</th>\n",
       "      <td>constituency parse</td>\n",
       "      <td>(S\\n  (NP (DT The) (NN world))\\n  (VP\\n    (MD will)\\n    (ADVP (RB little))\\n    (NP\\n      (NP (NN note))\\n      (, ,)\\n      (CC nor)\\n      (JJ long)\\n      (NN remember)\\n      (SBAR\\n        (WHNP (WP what))\\n        (S\\n          (NP (PRP we))\\n          (VP (VBP say)\\n            (ADVP (RB here)))))))\\n  (, ,)\\n  (CC but)\\n  (S\\n    (NP (PRP it))\\n    (VP\\n      (MD can)\\n      (ADVP (RB never))\\n      (VP\\n        (VB forget)\\n        (SBAR\\n          (WHNP (WP what))\\n          (S\\n            (NP (PRP they))\\n            (VP (VBD did)\\n              (ADVP (RB here)))))))))</td>\n",
       "    </tr>\n",
       "    <tr>\n",
       "      <th>1</th>\n",
       "      <td>dependency parse</td>\n",
       "      <td>[('The', '3', 'det'), ('world', '3', 'nsubj'), ('will', '0', 'root'), ('little', '3', 'advmod'), ('note', '3', 'ccomp'), (',', '9', 'punct'), ('nor', '9', 'cc'), ('long', '9', 'advmod'), ('remember', '3', 'ccomp'), ('what', '14', 'dobj'), ('we', '14', 'nsubj'), ('say', '9', 'ccomp'), ('here', '14', 'advmod'), (',', '18', 'punct'), ('but', '18', 'cc'), ('it', '18', 'nsubj'), ('can', '3', 'conj'), ('never', '18', 'neg'), ('forget', '18', 'ccomp'), ('what', '23', 'dobj'), ('they', '23', 'nsubj'), ('did', '18', 'ccomp'), ('here', '23', 'advmod'), ('.', '3', 'punct')]</td>\n",
       "    </tr>\n",
       "    <tr>\n",
       "      <th>2</th>\n",
       "      <td>CCG parse</td>\n",
       "      <td>(S (NP (D The) (N world)) (S\\NP (VP (TO will) (VP (Adv little) (V note)) , (Coord nor) (S (AdvP (Adj long)) (VP (V remember) ((S/NP (NP (Pro what) ) (S\\NP (NP (Pro we)) (S\\NP (VP (V say) (NP (Adv here)))))))) (S\\NP (Conj but) (VP (V it) (VP (VP (Modal can) (Adv never)) (VP (V forget) ((S/NP (NP (Pro what) ) (S\\NP (NP (Pro they)) (S\\NP (VP (V did) (NP (Adv here))))))))))))))</td>\n",
       "    </tr>\n",
       "    <tr>\n",
       "      <th>3</th>\n",
       "      <td>semantic roles</td>\n",
       "      <td>[Arg1: The world] [Predicate: will little note, nor long remember] [Arg2: what we say here], [Arg3: but it] [Predicate: can never forget] [Arg2: what they did here].</td>\n",
       "    </tr>\n",
       "    <tr>\n",
       "      <th>4</th>\n",
       "      <td>abstract meaning representation (AMR)</td>\n",
       "      <td>(s / say-01 \\n   :ARG0 (w / we) \\n   :location (h / here)\\n   :time (f / future)\\n   :condition (a / and \\n            :op1 (n / note-01\\n               :ARG0 (w2 / world)\\n               :degree (l / little)\\n               :time (f / future))\\n            :op2 (r / remember-01\\n               :ARG0 w2 \\n               :duration (l2 / long)\\n               :time (f / future)))\\n   :contrast (a2 / and \\n            :op1 (n2 / never\\n              :mod (f2 / forget-01 \\n                :ARG0 (i / it)\\n                :ARG1 (d / do-02\\n                  :ARG0 (t / they)\\n                  :location h))\\n            :op2 d))</td>\n",
       "    </tr>\n",
       "    <tr>\n",
       "      <th>5</th>\n",
       "      <td>coreference resolution</td>\n",
       "      <td>The world will little note, nor long remember what we say here, but it can never forget what the people did here.</td>\n",
       "    </tr>\n",
       "  </tbody>\n",
       "</table>\n",
       "</div>"
      ],
      "text/plain": [
       "                                    Task  \\\n",
       "0                     constituency parse   \n",
       "1                       dependency parse   \n",
       "2                              CCG parse   \n",
       "3                         semantic roles   \n",
       "4  abstract meaning representation (AMR)   \n",
       "5                 coreference resolution   \n",
       "\n",
       "                                                                                                                                                                                                                                                                                                                                                                                                                                                                                                                                                                                                                                                  Output  \n",
       "0                                         (S\\n  (NP (DT The) (NN world))\\n  (VP\\n    (MD will)\\n    (ADVP (RB little))\\n    (NP\\n      (NP (NN note))\\n      (, ,)\\n      (CC nor)\\n      (JJ long)\\n      (NN remember)\\n      (SBAR\\n        (WHNP (WP what))\\n        (S\\n          (NP (PRP we))\\n          (VP (VBP say)\\n            (ADVP (RB here)))))))\\n  (, ,)\\n  (CC but)\\n  (S\\n    (NP (PRP it))\\n    (VP\\n      (MD can)\\n      (ADVP (RB never))\\n      (VP\\n        (VB forget)\\n        (SBAR\\n          (WHNP (WP what))\\n          (S\\n            (NP (PRP they))\\n            (VP (VBD did)\\n              (ADVP (RB here)))))))))  \n",
       "1                                                              [('The', '3', 'det'), ('world', '3', 'nsubj'), ('will', '0', 'root'), ('little', '3', 'advmod'), ('note', '3', 'ccomp'), (',', '9', 'punct'), ('nor', '9', 'cc'), ('long', '9', 'advmod'), ('remember', '3', 'ccomp'), ('what', '14', 'dobj'), ('we', '14', 'nsubj'), ('say', '9', 'ccomp'), ('here', '14', 'advmod'), (',', '18', 'punct'), ('but', '18', 'cc'), ('it', '18', 'nsubj'), ('can', '3', 'conj'), ('never', '18', 'neg'), ('forget', '18', 'ccomp'), ('what', '23', 'dobj'), ('they', '23', 'nsubj'), ('did', '18', 'ccomp'), ('here', '23', 'advmod'), ('.', '3', 'punct')]  \n",
       "2                                                                                                                                                                                                                                                               (S (NP (D The) (N world)) (S\\NP (VP (TO will) (VP (Adv little) (V note)) , (Coord nor) (S (AdvP (Adj long)) (VP (V remember) ((S/NP (NP (Pro what) ) (S\\NP (NP (Pro we)) (S\\NP (VP (V say) (NP (Adv here)))))))) (S\\NP (Conj but) (VP (V it) (VP (VP (Modal can) (Adv never)) (VP (V forget) ((S/NP (NP (Pro what) ) (S\\NP (NP (Pro they)) (S\\NP (VP (V did) (NP (Adv here))))))))))))))  \n",
       "3                                                                                                                                                                                                                                                                                                                                                                                                                                                                                  [Arg1: The world] [Predicate: will little note, nor long remember] [Arg2: what we say here], [Arg3: but it] [Predicate: can never forget] [Arg2: what they did here].  \n",
       "4  (s / say-01 \\n   :ARG0 (w / we) \\n   :location (h / here)\\n   :time (f / future)\\n   :condition (a / and \\n            :op1 (n / note-01\\n               :ARG0 (w2 / world)\\n               :degree (l / little)\\n               :time (f / future))\\n            :op2 (r / remember-01\\n               :ARG0 w2 \\n               :duration (l2 / long)\\n               :time (f / future)))\\n   :contrast (a2 / and \\n            :op1 (n2 / never\\n              :mod (f2 / forget-01 \\n                :ARG0 (i / it)\\n                :ARG1 (d / do-02\\n                  :ARG0 (t / they)\\n                  :location h))\\n            :op2 d))  \n",
       "5                                                                                                                                                                                                                                                                                                                                                                                                                                                                                                                                      The world will little note, nor long remember what we say here, but it can never forget what the people did here.  "
      ]
     },
     "metadata": {},
     "output_type": "display_data"
    },
    {
     "data": {
      "text/markdown": [
       "### Model: GPT-4"
      ],
      "text/plain": [
       "<IPython.core.display.Markdown object>"
      ]
     },
     "metadata": {},
     "output_type": "display_data"
    },
    {
     "data": {
      "text/markdown": [
       "**Sentence:** You know that smoodle pinkered and that I want to get him round and take care of him like you want before."
      ],
      "text/plain": [
       "<IPython.core.display.Markdown object>"
      ]
     },
     "metadata": {},
     "output_type": "display_data"
    },
    {
     "data": {
      "text/html": [
       "<div>\n",
       "<style scoped>\n",
       "    .dataframe tbody tr th:only-of-type {\n",
       "        vertical-align: middle;\n",
       "    }\n",
       "\n",
       "    .dataframe tbody tr th {\n",
       "        vertical-align: top;\n",
       "    }\n",
       "\n",
       "    .dataframe thead th {\n",
       "        text-align: right;\n",
       "    }\n",
       "</style>\n",
       "<table border=\"1\" class=\"dataframe\">\n",
       "  <thead>\n",
       "    <tr style=\"text-align: right;\">\n",
       "      <th></th>\n",
       "      <th>Task</th>\n",
       "      <th>Output</th>\n",
       "    </tr>\n",
       "  </thead>\n",
       "  <tbody>\n",
       "    <tr>\n",
       "      <th>0</th>\n",
       "      <td>constituency parse</td>\n",
       "      <td>(S\\n  (NP (PRP You))\\n  (VP\\n    (VBP know)\\n    (SBAR\\n      (IN that)\\n      (S\\n        (NP (NN smoodle))\\n        (VP\\n          (VBD pinkered)\\n          (CC and)\\n          (SBAR\\n            (IN that)\\n            (S\\n              (NP (PRP I))\\n              (VP\\n                (VBP want)\\n                (S\\n                  (VP\\n                    (TO to)\\n                    (VP\\n                      (VB get)\\n                      (S\\n                        (NP (PRP him))\\n                        (ADJP (JJ round))\\n                        (CC and)\\n                        (S\\n                          (VP\\n                            (VB take)\\n                            (NP (NN care))\\n                            (PP\\n                              (IN of)\\n                              (NP (PRP him)))\\n                            (PP\\n                              (IN like)\\n                              (S\\n                                (NP (PRP you))\\n                                (VP\\n                                  (VBP want)\\n                                  (ADVP (RB before)))))))))))))))))))))</td>\n",
       "    </tr>\n",
       "    <tr>\n",
       "      <th>1</th>\n",
       "      <td>dependency parse</td>\n",
       "      <td>You know that smoodle pinkered and that I want to get him round and take care of him like you want before.\\n\\nDependency Parse Tree:\\n\\n1. You --(ROOT)--&gt; know\\n2. know --(nsubj)--&gt; You\\n3. know --(dobj)--&gt; that\\n4. that --(ccomp)--&gt; pinkered\\n5. pinkered --(nsubj)--&gt; smoodle\\n6. know --(ccomp)--&gt; want\\n7. want --(nsubj)--&gt; I\\n8. want --(dobj)--&gt; to \\n9. to --(xcomp)--&gt; get\\n10. get --(dobj)--&gt; him\\n11. get --(advmod)--&gt; round\\n12. want --(advcl)--&gt; take\\n13. take --(dobj)--&gt; care\\n14. care --(prep)--&gt; of\\n15. of --(pobj)--&gt; him\\n16. take --(advcl)--&gt; like\\n17. like --(nsubj)--&gt; you\\n18. like --(ccomp)--&gt; want\\n19. want --(advmod)--&gt; before.</td>\n",
       "    </tr>\n",
       "    <tr>\n",
       "      <th>2</th>\n",
       "      <td>CCG parse</td>\n",
       "      <td>(S/S)\\\\(S[b]\\\\NP)/NP: You\\n(S\\\\NP)/(S\\\\NP): know\\n(S[b]\\\\NP)/NP: that\\n(S[b]\\\\NP)/NP: smoodle\\n(S[b]\\\\(S[adj]\\\\NP))/(S[ng]\\\\NP): pinkered \\nconj: and\\n(S[b]\\\\NP)/NP: that\\n(S[b]\\\\(S[dcl]\\\\NP))/((S\\\\NP)/PP): I\\n(S[b]\\\\(S[dcl]\\\\NP))/((S\\\\NP)/PP): want\\n(S\\\\NP)/NP: to\\n(get[conj]_((S\\\\NP)/PP)/((S\\\\NP)/PP))/NP: get\\n(S\\\\NP)/PP: him\\n(S\\\\NP)/PP: round\\nconj: and\\n((S\\\\NP)/PP)/NP: take\\n((S\\\\NP)/PP)/NP: care\\n(S\\\\NP)/PP: of\\n(S\\\\NP)/PP: him\\n(S/S)\\\\(S[b]\\\\NP)/NP: like\\n((S\\\\NP)/PP)/((S\\\\NP)/PP): you\\n((S\\\\NP)/PP)/((S\\\\NP)/PP): want\\n(S/S)\\\\(S[adj]\\\\NP): before\\n. : .</td>\n",
       "    </tr>\n",
       "    <tr>\n",
       "      <th>3</th>\n",
       "      <td>semantic roles</td>\n",
       "      <td>[You]Agent know [that smoodle pinkered]Event and [that I]Agent want [to get him round and take care of him]Goal like [you]Agent want before.</td>\n",
       "    </tr>\n",
       "    <tr>\n",
       "      <th>4</th>\n",
       "      <td>abstract meaning representation (AMR)</td>\n",
       "      <td>(s / smoodle\\n  :ARG1 (p / pinker)\\n  :time (b / before)\\n  :condition (a / and\\n    :op1 (p2 / person\\n      :ARG0-of (w / want-01\\n        :ARG1 (c / care-01\\n          :ARG0 p2\\n          :time b\\n          :ARG1 (h / he)))\\n      :mod (y / you))\\n    :op2 (a2 / and\\n      :op1 (i / I\\n        :ARG0-of (w2 / want-01\\n          :ARG1 (g / get-01\\n            :ARG0 i\\n            :ARG1 h\\n            :purpose (m / make-01\\n              :ARG0 i\\n              :ARG1 (r / round-01 \\n                :ARG0 h))))\\n        :mod (y2 / you)))))</td>\n",
       "    </tr>\n",
       "    <tr>\n",
       "      <th>5</th>\n",
       "      <td>coreference resolution</td>\n",
       "      <td>You know that smoodle pinkered and that I want to get smoodle round and take care of smoodle like you want before.</td>\n",
       "    </tr>\n",
       "  </tbody>\n",
       "</table>\n",
       "</div>"
      ],
      "text/plain": [
       "                                    Task  \\\n",
       "0                     constituency parse   \n",
       "1                       dependency parse   \n",
       "2                              CCG parse   \n",
       "3                         semantic roles   \n",
       "4  abstract meaning representation (AMR)   \n",
       "5                 coreference resolution   \n",
       "\n",
       "                                                                                                                                                                                                                                                                                                                                                                                                                                                                                                                                                                                                                                                                                                                                                                                                                                                                                                                                                                                                                                                                                                                                                                                    Output  \n",
       "0  (S\\n  (NP (PRP You))\\n  (VP\\n    (VBP know)\\n    (SBAR\\n      (IN that)\\n      (S\\n        (NP (NN smoodle))\\n        (VP\\n          (VBD pinkered)\\n          (CC and)\\n          (SBAR\\n            (IN that)\\n            (S\\n              (NP (PRP I))\\n              (VP\\n                (VBP want)\\n                (S\\n                  (VP\\n                    (TO to)\\n                    (VP\\n                      (VB get)\\n                      (S\\n                        (NP (PRP him))\\n                        (ADJP (JJ round))\\n                        (CC and)\\n                        (S\\n                          (VP\\n                            (VB take)\\n                            (NP (NN care))\\n                            (PP\\n                              (IN of)\\n                              (NP (PRP him)))\\n                            (PP\\n                              (IN like)\\n                              (S\\n                                (NP (PRP you))\\n                                (VP\\n                                  (VBP want)\\n                                  (ADVP (RB before)))))))))))))))))))))  \n",
       "1                                                                                                                                                                                                                                                                                                                                                                                                                                                                                                                You know that smoodle pinkered and that I want to get him round and take care of him like you want before.\\n\\nDependency Parse Tree:\\n\\n1. You --(ROOT)--> know\\n2. know --(nsubj)--> You\\n3. know --(dobj)--> that\\n4. that --(ccomp)--> pinkered\\n5. pinkered --(nsubj)--> smoodle\\n6. know --(ccomp)--> want\\n7. want --(nsubj)--> I\\n8. want --(dobj)--> to \\n9. to --(xcomp)--> get\\n10. get --(dobj)--> him\\n11. get --(advmod)--> round\\n12. want --(advcl)--> take\\n13. take --(dobj)--> care\\n14. care --(prep)--> of\\n15. of --(pobj)--> him\\n16. take --(advcl)--> like\\n17. like --(nsubj)--> you\\n18. like --(ccomp)--> want\\n19. want --(advmod)--> before.  \n",
       "2                                                                                                                                                                                                                                                                                                                                                                                                                                                                                                                                                                                                  (S/S)\\\\(S[b]\\\\NP)/NP: You\\n(S\\\\NP)/(S\\\\NP): know\\n(S[b]\\\\NP)/NP: that\\n(S[b]\\\\NP)/NP: smoodle\\n(S[b]\\\\(S[adj]\\\\NP))/(S[ng]\\\\NP): pinkered \\nconj: and\\n(S[b]\\\\NP)/NP: that\\n(S[b]\\\\(S[dcl]\\\\NP))/((S\\\\NP)/PP): I\\n(S[b]\\\\(S[dcl]\\\\NP))/((S\\\\NP)/PP): want\\n(S\\\\NP)/NP: to\\n(get[conj]_((S\\\\NP)/PP)/((S\\\\NP)/PP))/NP: get\\n(S\\\\NP)/PP: him\\n(S\\\\NP)/PP: round\\nconj: and\\n((S\\\\NP)/PP)/NP: take\\n((S\\\\NP)/PP)/NP: care\\n(S\\\\NP)/PP: of\\n(S\\\\NP)/PP: him\\n(S/S)\\\\(S[b]\\\\NP)/NP: like\\n((S\\\\NP)/PP)/((S\\\\NP)/PP): you\\n((S\\\\NP)/PP)/((S\\\\NP)/PP): want\\n(S/S)\\\\(S[adj]\\\\NP): before\\n. : .  \n",
       "3                                                                                                                                                                                                                                                                                                                                                                                                                                                                                                                                                                                                                                                                                                                                                                                                                                                                                                                                                                                                                                             [You]Agent know [that smoodle pinkered]Event and [that I]Agent want [to get him round and take care of him]Goal like [you]Agent want before.  \n",
       "4                                                                                                                                                                                                                                                                                                                                                                                                                                                                                                                                                                                                                          (s / smoodle\\n  :ARG1 (p / pinker)\\n  :time (b / before)\\n  :condition (a / and\\n    :op1 (p2 / person\\n      :ARG0-of (w / want-01\\n        :ARG1 (c / care-01\\n          :ARG0 p2\\n          :time b\\n          :ARG1 (h / he)))\\n      :mod (y / you))\\n    :op2 (a2 / and\\n      :op1 (i / I\\n        :ARG0-of (w2 / want-01\\n          :ARG1 (g / get-01\\n            :ARG0 i\\n            :ARG1 h\\n            :purpose (m / make-01\\n              :ARG0 i\\n              :ARG1 (r / round-01 \\n                :ARG0 h))))\\n        :mod (y2 / you)))))  \n",
       "5                                                                                                                                                                                                                                                                                                                                                                                                                                                                                                                                                                                                                                                                                                                                                                                                                                                                                                                                                                                                                                                                       You know that smoodle pinkered and that I want to get smoodle round and take care of smoodle like you want before.  "
      ]
     },
     "metadata": {},
     "output_type": "display_data"
    }
   ],
   "source": [
    "gpt_sen1_df,gpt_sen2_df= process_and_display_results(\n",
    "    sentences=[sen_1, sen_2],\n",
    "    tasks=tasks,\n",
    "    model_name=\"GPT-4\",\n",
    "    query_function=query_chatgpt\n",
    ")"
   ]
  },
  {
   "cell_type": "code",
   "execution_count": 12,
   "metadata": {},
   "outputs": [
    {
     "name": "stdout",
     "output_type": "stream",
     "text": [
      "Constituency Parsing tree (sentence: The world will little note, nor long remember what we say here, but it can never forget what they did here.):\n",
      "(S\n",
      "  (NP (DT The) (NN world))\n",
      "  (VP\n",
      "    (MD will)\n",
      "    (ADVP (RB little))\n",
      "    (NP\n",
      "      (NP (NN note))\n",
      "      (, ,)\n",
      "      (CC nor)\n",
      "      (JJ long)\n",
      "      (NN remember)\n",
      "      (SBAR\n",
      "        (WHNP (WP what))\n",
      "        (S\n",
      "          (NP (PRP we))\n",
      "          (VP (VBP say)\n",
      "            (ADVP (RB here)))))))\n",
      "  (, ,)\n",
      "  (CC but)\n",
      "  (S\n",
      "    (NP (PRP it))\n",
      "    (VP\n",
      "      (MD can)\n",
      "      (ADVP (RB never))\n",
      "      (VP\n",
      "        (VB forget)\n",
      "        (SBAR\n",
      "          (WHNP (WP what))\n",
      "          (S\n",
      "            (NP (PRP they))\n",
      "            (VP (VBD did)\n",
      "              (ADVP (RB here)))))))))\n"
     ]
    }
   ],
   "source": [
    "print(f\"Constituency Parsing tree (sentence: {sen_1}):\\n{gpt_sen1_df.iloc[0,1]}\")"
   ]
  },
  {
   "cell_type": "markdown",
   "metadata": {},
   "source": [
    "## Bonus write-up\n",
    "\n",
    "The **GPT-4 implementation** demonstrated a significantly higher level of accuracy and task-specific relevance compared to Pythia and T5, showcasing its ability to handle complex NLP tasks with minimal instruction. For example, in constituency parsing and semantic role labeling, GPT-4 produced well-structured and interpretable outputs closely aligning with linguistic expectations. Additionally, its abstract meaning representation (AMR) and coreference resolution tasks reflected a deeper semantic understanding of the sentences, capturing nuanced relationships between entities and actions. However, GPT-4 occasionally included extraneous details or verbose explanations in certain outputs, which could be mitigated by refining the prompt for concise responses. Overall, GPT-4 outperformed the other models, highlighting its suitability for such tasks even without task-specific fine-tuning."
   ]
  }
 ],
 "metadata": {
  "kernelspec": {
   "display_name": "imgsenv",
   "language": "python",
   "name": "python3"
  },
  "language_info": {
   "codemirror_mode": {
    "name": "ipython",
    "version": 3
   },
   "file_extension": ".py",
   "mimetype": "text/x-python",
   "name": "python",
   "nbconvert_exporter": "python",
   "pygments_lexer": "ipython3",
   "version": "3.12.7"
  }
 },
 "nbformat": 4,
 "nbformat_minor": 2
}
