{
 "cells": [
  {
   "cell_type": "code",
   "execution_count": 2,
   "metadata": {},
   "outputs": [
    {
     "name": "stdout",
     "output_type": "stream",
     "text": [
      "Unexpected exception formatting exception. Falling back to standard exception\n"
     ]
    },
    {
     "name": "stderr",
     "output_type": "stream",
     "text": [
      "Traceback (most recent call last):\n",
      "  File \"/home/stu5/s11/hc4293/miniconda3/envs/nlpenv/lib/python3.12/site-packages/IPython/core/interactiveshell.py\", line 3577, in run_code\n",
      "  File \"/tmp/ipykernel_3403284/2172125874.py\", line 1, in <module>\n",
      "    import numpy\n",
      "ModuleNotFoundError: No module named 'numpy'\n",
      "\n",
      "During handling of the above exception, another exception occurred:\n",
      "\n",
      "Traceback (most recent call last):\n",
      "  File \"/home/stu5/s11/hc4293/miniconda3/envs/nlpenv/lib/python3.12/site-packages/pygments/styles/__init__.py\", line 89, in get_style_by_name\n",
      "ModuleNotFoundError: No module named 'pygments.styles.default'\n",
      "\n",
      "During handling of the above exception, another exception occurred:\n",
      "\n",
      "Traceback (most recent call last):\n",
      "  File \"/home/stu5/s11/hc4293/miniconda3/envs/nlpenv/lib/python3.12/site-packages/IPython/core/interactiveshell.py\", line 2168, in showtraceback\n",
      "  File \"/home/stu5/s11/hc4293/miniconda3/envs/nlpenv/lib/python3.12/site-packages/IPython/core/ultratb.py\", line 1457, in structured_traceback\n",
      "  File \"/home/stu5/s11/hc4293/miniconda3/envs/nlpenv/lib/python3.12/site-packages/IPython/core/ultratb.py\", line 1348, in structured_traceback\n",
      "  File \"/home/stu5/s11/hc4293/miniconda3/envs/nlpenv/lib/python3.12/site-packages/IPython/core/ultratb.py\", line 1195, in structured_traceback\n",
      "  File \"/home/stu5/s11/hc4293/miniconda3/envs/nlpenv/lib/python3.12/site-packages/IPython/core/ultratb.py\", line 1085, in format_exception_as_a_whole\n",
      "  File \"/home/stu5/s11/hc4293/miniconda3/envs/nlpenv/lib/python3.12/site-packages/IPython/core/ultratb.py\", line 1136, in get_records\n",
      "  File \"/home/stu5/s11/hc4293/miniconda3/envs/nlpenv/lib/python3.12/site-packages/pygments/styles/__init__.py\", line 91, in get_style_by_name\n",
      "pygments.util.ClassNotFound: Could not find style module 'default', though it should be builtin.\n"
     ]
    }
   ],
   "source": [
    "import numpy"
   ]
  },
  {
   "cell_type": "code",
   "execution_count": 1,
   "metadata": {},
   "outputs": [
    {
     "name": "stdout",
     "output_type": "stream",
     "text": [
      "Unexpected exception formatting exception. Falling back to standard exception\n"
     ]
    },
    {
     "name": "stderr",
     "output_type": "stream",
     "text": [
      "Traceback (most recent call last):\n",
      "  File \"/home/stu5/s11/hc4293/miniconda3/envs/nlpenv/lib/python3.12/site-packages/IPython/core/interactiveshell.py\", line 3577, in run_code\n",
      "  File \"/tmp/ipykernel_3403284/1306639511.py\", line 1, in <module>\n",
      "    from transformers import AutoModelForSeq2SeqLM, AutoTokenizer\n",
      "ModuleNotFoundError: No module named 'transformers'\n",
      "\n",
      "During handling of the above exception, another exception occurred:\n",
      "\n",
      "Traceback (most recent call last):\n",
      "  File \"/home/stu5/s11/hc4293/miniconda3/envs/nlpenv/lib/python3.12/site-packages/pygments/styles/__init__.py\", line 89, in get_style_by_name\n",
      "ModuleNotFoundError: No module named 'pygments.styles.default'\n",
      "\n",
      "During handling of the above exception, another exception occurred:\n",
      "\n",
      "Traceback (most recent call last):\n",
      "  File \"/home/stu5/s11/hc4293/miniconda3/envs/nlpenv/lib/python3.12/site-packages/IPython/core/interactiveshell.py\", line 2168, in showtraceback\n",
      "  File \"/home/stu5/s11/hc4293/miniconda3/envs/nlpenv/lib/python3.12/site-packages/IPython/core/ultratb.py\", line 1457, in structured_traceback\n",
      "  File \"/home/stu5/s11/hc4293/miniconda3/envs/nlpenv/lib/python3.12/site-packages/IPython/core/ultratb.py\", line 1348, in structured_traceback\n",
      "  File \"/home/stu5/s11/hc4293/miniconda3/envs/nlpenv/lib/python3.12/site-packages/IPython/core/ultratb.py\", line 1195, in structured_traceback\n",
      "  File \"/home/stu5/s11/hc4293/miniconda3/envs/nlpenv/lib/python3.12/site-packages/IPython/core/ultratb.py\", line 1085, in format_exception_as_a_whole\n",
      "  File \"/home/stu5/s11/hc4293/miniconda3/envs/nlpenv/lib/python3.12/site-packages/IPython/core/ultratb.py\", line 1136, in get_records\n",
      "  File \"/home/stu5/s11/hc4293/miniconda3/envs/nlpenv/lib/python3.12/site-packages/pygments/styles/__init__.py\", line 91, in get_style_by_name\n",
      "pygments.util.ClassNotFound: Could not find style module 'default', though it should be builtin.\n"
     ]
    }
   ],
   "source": [
    "from transformers import AutoModelForSeq2SeqLM, AutoTokenizer\n",
    "\n",
    "tokenizer = AutoTokenizer.from_pretrained(\"meta-llama/Llama-2-7b-hf\")\n",
    "model = AutoModelForSeq2SeqLM.from_pretrained(\"meta-llama/Llama-2-7b-hf\")\n"
   ]
  },
  {
   "cell_type": "code",
   "execution_count": null,
   "metadata": {},
   "outputs": [
    {
     "ename": "",
     "evalue": "",
     "output_type": "error",
     "traceback": [
      "\u001b[1;31mRunning cells with 'idai610 (Python 3.10.8)' requires the ipykernel package.\n",
      "\u001b[1;31mRun the following command to install 'ipykernel' into the Python environment. \n",
      "\u001b[1;31mCommand: 'conda install -n idai610 ipykernel --update-deps --force-reinstall'"
     ]
    }
   ],
   "source": [
    "# source: A speech by Abhraham Lincoln (Gettysburg Address, 1863).\n",
    "sen_1= \"The world will little note, nor long remember what we say here, but it can never forget what they did here.\"\n",
    "# source: Wernicke's Aphasia from Aphasia Community INC.\n",
    "sen_2= \"You know that smoodle pinkered and that I want to get him round and take care of him like you want before.\""
   ]
  },
  {
   "cell_type": "code",
   "execution_count": null,
   "metadata": {},
   "outputs": [
    {
     "ename": "",
     "evalue": "",
     "output_type": "error",
     "traceback": [
      "\u001b[1;31mRunning cells with 'idai610 (Python 3.10.8)' requires the ipykernel package.\n",
      "\u001b[1;31mRun the following command to install 'ipykernel' into the Python environment. \n",
      "\u001b[1;31mCommand: 'conda install -n idai610 ipykernel --update-deps --force-reinstall'"
     ]
    }
   ],
   "source": [
    "def query_llama2(sentence, task):\n",
    "    input_text = f\"{task}: {sentence}\"\n",
    "    inputs = tokenizer(input_text, return_tensors=\"pt\", padding=True)\n",
    "    outputs = model.generate(**inputs)\n",
    "    return tokenizer.decode(outputs[0], skip_special_tokens=True)\n"
   ]
  },
  {
   "cell_type": "code",
   "execution_count": null,
   "metadata": {},
   "outputs": [],
   "source": [
    "tasks = [\n",
    "    \"constituency parse\",\n",
    "    \"dependency parse\",\n",
    "    \"CCG parse\",\n",
    "    \"semantic roles\",\n",
    "    \"abstract meaning representation (AMR)\",\n",
    "    \"coreference resolution\",\n",
    "]\n",
    "\n",
    "results = []\n",
    "\n",
    "for sentence in [sen_1, sen_2]:\n",
    "    for task in tasks:\n",
    "        llama2_output = query_llama2(sentence, task)\n",
    "        results.append({\n",
    "            \"Sentence\": sentence,\n",
    "            \"Task\": task,\n",
    "            \"LLaMA2\": llama2_output,\n",
    "        })\n"
   ]
  }
 ],
 "metadata": {
  "kernelspec": {
   "display_name": "nlpenv",
   "language": "python",
   "name": "python3"
  },
  "language_info": {
   "codemirror_mode": {
    "name": "ipython",
    "version": 3
   },
   "file_extension": ".py",
   "mimetype": "text/x-python",
   "name": "python",
   "nbconvert_exporter": "python",
   "pygments_lexer": "ipython3",
   "version": "3.12.7"
  }
 },
 "nbformat": 4,
 "nbformat_minor": 2
}
